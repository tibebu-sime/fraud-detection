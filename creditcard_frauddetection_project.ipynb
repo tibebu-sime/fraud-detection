{
  "nbformat": 4,
  "nbformat_minor": 0,
  "metadata": {
    "colab": {
      "name": "creditcard_frauddetection-project.ipynb",
      "provenance": [],
      "authorship_tag": "ABX9TyNdbczjGsNuFGf75rfcadJL",
      "include_colab_link": true
    },
    "kernelspec": {
      "name": "python3",
      "display_name": "Python 3"
    },
    "language_info": {
      "name": "python"
    }
  },
  "cells": [
    {
      "cell_type": "markdown",
      "metadata": {
        "id": "view-in-github",
        "colab_type": "text"
      },
      "source": [
        "<a href=\"https://colab.research.google.com/github/tibebu-sime/fraud-detection/blob/main/creditcard_frauddetection_project.ipynb\" target=\"_parent\"><img src=\"https://colab.research.google.com/assets/colab-badge.svg\" alt=\"Open In Colab\"/></a>"
      ]
    },
    {
      "cell_type": "markdown",
      "metadata": {
        "id": "JqgDwwRjZaUS"
      },
      "source": [
        "**Attributes Information**\n",
        "\n",
        "It contains only numerical input variables which are the result of a Principal Component Analysis(PCA) transformation due to confidentiality issues.\n",
        "1. *Features V1, V2, … V28* are the principal components obtained with PCA.\n",
        "2. *Time*: contains the seconds elapsed between each transaction and the first transaction in the dataset.\n",
        "3. *Amount*: the transaction amount\n",
        "4. *Class*: is the response variable and it takes value 1 in case of fraud and 0 otherwise.\n"
      ]
    },
    {
      "cell_type": "code",
      "metadata": {
        "id": "dhadsaOCTMgs",
        "colab": {
          "base_uri": "https://localhost:8080/"
        },
        "outputId": "abecdf9e-ba59-40d2-bca6-0201fd9d1c10"
      },
      "source": [
        "from google.colab import drive\n",
        "drive.mount('/content/drive')"
      ],
      "execution_count": 1,
      "outputs": [
        {
          "output_type": "stream",
          "text": [
            "Mounted at /content/drive\n"
          ],
          "name": "stdout"
        }
      ]
    },
    {
      "cell_type": "code",
      "metadata": {
        "id": "K_CmlGT-Tbs3"
      },
      "source": [
        "import warnings\n",
        "warnings.filterwarnings('ignore')\n",
        "\n",
        "import numpy as np\n",
        "import pandas as pd\n",
        "import seaborn as sns \n",
        "import matplotlib.pyplot as plt\n",
        "\n",
        "from imblearn.over_sampling import SMOTE\n",
        "from imblearn.pipeline import make_pipeline\n",
        "\n",
        "from sklearn.model_selection import train_test_split, GridSearchCV\n",
        "from sklearn.preprocessing import StandardScaler\n",
        "from sklearn.neighbors import KNeighborsClassifier\n",
        "from sklearn.linear_model import LogisticRegression\n",
        "from sklearn.ensemble import RandomForestClassifier\n",
        "from xgboost import XGBClassifier\n",
        "from sklearn.metrics import accuracy_score, roc_auc_score, plot_roc_curve, confusion_matrix, plot_confusion_matrix"
      ],
      "execution_count": 2,
      "outputs": []
    },
    {
      "cell_type": "code",
      "metadata": {
        "id": "go69kZszODLl",
        "colab": {
          "base_uri": "https://localhost:8080/",
          "height": 226
        },
        "outputId": "8178fbf5-3189-4884-d051-5d80ec7e1048"
      },
      "source": [
        "filename = '/content/drive/MyDrive/CodingDojo/Projects/creditcard.csv'\n",
        "df = pd.read_csv(filename)\n",
        "df.head()"
      ],
      "execution_count": 3,
      "outputs": [
        {
          "output_type": "execute_result",
          "data": {
            "text/html": [
              "<div>\n",
              "<style scoped>\n",
              "    .dataframe tbody tr th:only-of-type {\n",
              "        vertical-align: middle;\n",
              "    }\n",
              "\n",
              "    .dataframe tbody tr th {\n",
              "        vertical-align: top;\n",
              "    }\n",
              "\n",
              "    .dataframe thead th {\n",
              "        text-align: right;\n",
              "    }\n",
              "</style>\n",
              "<table border=\"1\" class=\"dataframe\">\n",
              "  <thead>\n",
              "    <tr style=\"text-align: right;\">\n",
              "      <th></th>\n",
              "      <th>Time</th>\n",
              "      <th>V1</th>\n",
              "      <th>V2</th>\n",
              "      <th>V3</th>\n",
              "      <th>V4</th>\n",
              "      <th>V5</th>\n",
              "      <th>V6</th>\n",
              "      <th>V7</th>\n",
              "      <th>V8</th>\n",
              "      <th>V9</th>\n",
              "      <th>V10</th>\n",
              "      <th>V11</th>\n",
              "      <th>V12</th>\n",
              "      <th>V13</th>\n",
              "      <th>V14</th>\n",
              "      <th>V15</th>\n",
              "      <th>V16</th>\n",
              "      <th>V17</th>\n",
              "      <th>V18</th>\n",
              "      <th>V19</th>\n",
              "      <th>V20</th>\n",
              "      <th>V21</th>\n",
              "      <th>V22</th>\n",
              "      <th>V23</th>\n",
              "      <th>V24</th>\n",
              "      <th>V25</th>\n",
              "      <th>V26</th>\n",
              "      <th>V27</th>\n",
              "      <th>V28</th>\n",
              "      <th>Amount</th>\n",
              "      <th>Class</th>\n",
              "    </tr>\n",
              "  </thead>\n",
              "  <tbody>\n",
              "    <tr>\n",
              "      <th>0</th>\n",
              "      <td>0.0</td>\n",
              "      <td>-1.359807</td>\n",
              "      <td>-0.072781</td>\n",
              "      <td>2.536347</td>\n",
              "      <td>1.378155</td>\n",
              "      <td>-0.338321</td>\n",
              "      <td>0.462388</td>\n",
              "      <td>0.239599</td>\n",
              "      <td>0.098698</td>\n",
              "      <td>0.363787</td>\n",
              "      <td>0.090794</td>\n",
              "      <td>-0.551600</td>\n",
              "      <td>-0.617801</td>\n",
              "      <td>-0.991390</td>\n",
              "      <td>-0.311169</td>\n",
              "      <td>1.468177</td>\n",
              "      <td>-0.470401</td>\n",
              "      <td>0.207971</td>\n",
              "      <td>0.025791</td>\n",
              "      <td>0.403993</td>\n",
              "      <td>0.251412</td>\n",
              "      <td>-0.018307</td>\n",
              "      <td>0.277838</td>\n",
              "      <td>-0.110474</td>\n",
              "      <td>0.066928</td>\n",
              "      <td>0.128539</td>\n",
              "      <td>-0.189115</td>\n",
              "      <td>0.133558</td>\n",
              "      <td>-0.021053</td>\n",
              "      <td>149.62</td>\n",
              "      <td>0</td>\n",
              "    </tr>\n",
              "    <tr>\n",
              "      <th>1</th>\n",
              "      <td>0.0</td>\n",
              "      <td>1.191857</td>\n",
              "      <td>0.266151</td>\n",
              "      <td>0.166480</td>\n",
              "      <td>0.448154</td>\n",
              "      <td>0.060018</td>\n",
              "      <td>-0.082361</td>\n",
              "      <td>-0.078803</td>\n",
              "      <td>0.085102</td>\n",
              "      <td>-0.255425</td>\n",
              "      <td>-0.166974</td>\n",
              "      <td>1.612727</td>\n",
              "      <td>1.065235</td>\n",
              "      <td>0.489095</td>\n",
              "      <td>-0.143772</td>\n",
              "      <td>0.635558</td>\n",
              "      <td>0.463917</td>\n",
              "      <td>-0.114805</td>\n",
              "      <td>-0.183361</td>\n",
              "      <td>-0.145783</td>\n",
              "      <td>-0.069083</td>\n",
              "      <td>-0.225775</td>\n",
              "      <td>-0.638672</td>\n",
              "      <td>0.101288</td>\n",
              "      <td>-0.339846</td>\n",
              "      <td>0.167170</td>\n",
              "      <td>0.125895</td>\n",
              "      <td>-0.008983</td>\n",
              "      <td>0.014724</td>\n",
              "      <td>2.69</td>\n",
              "      <td>0</td>\n",
              "    </tr>\n",
              "    <tr>\n",
              "      <th>2</th>\n",
              "      <td>1.0</td>\n",
              "      <td>-1.358354</td>\n",
              "      <td>-1.340163</td>\n",
              "      <td>1.773209</td>\n",
              "      <td>0.379780</td>\n",
              "      <td>-0.503198</td>\n",
              "      <td>1.800499</td>\n",
              "      <td>0.791461</td>\n",
              "      <td>0.247676</td>\n",
              "      <td>-1.514654</td>\n",
              "      <td>0.207643</td>\n",
              "      <td>0.624501</td>\n",
              "      <td>0.066084</td>\n",
              "      <td>0.717293</td>\n",
              "      <td>-0.165946</td>\n",
              "      <td>2.345865</td>\n",
              "      <td>-2.890083</td>\n",
              "      <td>1.109969</td>\n",
              "      <td>-0.121359</td>\n",
              "      <td>-2.261857</td>\n",
              "      <td>0.524980</td>\n",
              "      <td>0.247998</td>\n",
              "      <td>0.771679</td>\n",
              "      <td>0.909412</td>\n",
              "      <td>-0.689281</td>\n",
              "      <td>-0.327642</td>\n",
              "      <td>-0.139097</td>\n",
              "      <td>-0.055353</td>\n",
              "      <td>-0.059752</td>\n",
              "      <td>378.66</td>\n",
              "      <td>0</td>\n",
              "    </tr>\n",
              "    <tr>\n",
              "      <th>3</th>\n",
              "      <td>1.0</td>\n",
              "      <td>-0.966272</td>\n",
              "      <td>-0.185226</td>\n",
              "      <td>1.792993</td>\n",
              "      <td>-0.863291</td>\n",
              "      <td>-0.010309</td>\n",
              "      <td>1.247203</td>\n",
              "      <td>0.237609</td>\n",
              "      <td>0.377436</td>\n",
              "      <td>-1.387024</td>\n",
              "      <td>-0.054952</td>\n",
              "      <td>-0.226487</td>\n",
              "      <td>0.178228</td>\n",
              "      <td>0.507757</td>\n",
              "      <td>-0.287924</td>\n",
              "      <td>-0.631418</td>\n",
              "      <td>-1.059647</td>\n",
              "      <td>-0.684093</td>\n",
              "      <td>1.965775</td>\n",
              "      <td>-1.232622</td>\n",
              "      <td>-0.208038</td>\n",
              "      <td>-0.108300</td>\n",
              "      <td>0.005274</td>\n",
              "      <td>-0.190321</td>\n",
              "      <td>-1.175575</td>\n",
              "      <td>0.647376</td>\n",
              "      <td>-0.221929</td>\n",
              "      <td>0.062723</td>\n",
              "      <td>0.061458</td>\n",
              "      <td>123.50</td>\n",
              "      <td>0</td>\n",
              "    </tr>\n",
              "    <tr>\n",
              "      <th>4</th>\n",
              "      <td>2.0</td>\n",
              "      <td>-1.158233</td>\n",
              "      <td>0.877737</td>\n",
              "      <td>1.548718</td>\n",
              "      <td>0.403034</td>\n",
              "      <td>-0.407193</td>\n",
              "      <td>0.095921</td>\n",
              "      <td>0.592941</td>\n",
              "      <td>-0.270533</td>\n",
              "      <td>0.817739</td>\n",
              "      <td>0.753074</td>\n",
              "      <td>-0.822843</td>\n",
              "      <td>0.538196</td>\n",
              "      <td>1.345852</td>\n",
              "      <td>-1.119670</td>\n",
              "      <td>0.175121</td>\n",
              "      <td>-0.451449</td>\n",
              "      <td>-0.237033</td>\n",
              "      <td>-0.038195</td>\n",
              "      <td>0.803487</td>\n",
              "      <td>0.408542</td>\n",
              "      <td>-0.009431</td>\n",
              "      <td>0.798278</td>\n",
              "      <td>-0.137458</td>\n",
              "      <td>0.141267</td>\n",
              "      <td>-0.206010</td>\n",
              "      <td>0.502292</td>\n",
              "      <td>0.219422</td>\n",
              "      <td>0.215153</td>\n",
              "      <td>69.99</td>\n",
              "      <td>0</td>\n",
              "    </tr>\n",
              "  </tbody>\n",
              "</table>\n",
              "</div>"
            ],
            "text/plain": [
              "   Time        V1        V2        V3  ...       V27       V28  Amount  Class\n",
              "0   0.0 -1.359807 -0.072781  2.536347  ...  0.133558 -0.021053  149.62      0\n",
              "1   0.0  1.191857  0.266151  0.166480  ... -0.008983  0.014724    2.69      0\n",
              "2   1.0 -1.358354 -1.340163  1.773209  ... -0.055353 -0.059752  378.66      0\n",
              "3   1.0 -0.966272 -0.185226  1.792993  ...  0.062723  0.061458  123.50      0\n",
              "4   2.0 -1.158233  0.877737  1.548718  ...  0.219422  0.215153   69.99      0\n",
              "\n",
              "[5 rows x 31 columns]"
            ]
          },
          "metadata": {
            "tags": []
          },
          "execution_count": 3
        }
      ]
    },
    {
      "cell_type": "markdown",
      "metadata": {
        "id": "5bf3VdvblCOw"
      },
      "source": [
        "##**Data Cleaning and Exploration**"
      ]
    },
    {
      "cell_type": "code",
      "metadata": {
        "id": "kdWLelqPQLW_",
        "colab": {
          "base_uri": "https://localhost:8080/"
        },
        "outputId": "73809d90-17bb-4acc-9a16-9bb68b43248a"
      },
      "source": [
        "# Printing quick information about the dataset\n",
        "df.info()"
      ],
      "execution_count": 6,
      "outputs": [
        {
          "output_type": "stream",
          "text": [
            "<class 'pandas.core.frame.DataFrame'>\n",
            "RangeIndex: 284807 entries, 0 to 284806\n",
            "Data columns (total 31 columns):\n",
            " #   Column  Non-Null Count   Dtype  \n",
            "---  ------  --------------   -----  \n",
            " 0   Time    284807 non-null  float64\n",
            " 1   V1      284807 non-null  float64\n",
            " 2   V2      284807 non-null  float64\n",
            " 3   V3      284807 non-null  float64\n",
            " 4   V4      284807 non-null  float64\n",
            " 5   V5      284807 non-null  float64\n",
            " 6   V6      284807 non-null  float64\n",
            " 7   V7      284807 non-null  float64\n",
            " 8   V8      284807 non-null  float64\n",
            " 9   V9      284807 non-null  float64\n",
            " 10  V10     284807 non-null  float64\n",
            " 11  V11     284807 non-null  float64\n",
            " 12  V12     284807 non-null  float64\n",
            " 13  V13     284807 non-null  float64\n",
            " 14  V14     284807 non-null  float64\n",
            " 15  V15     284807 non-null  float64\n",
            " 16  V16     284807 non-null  float64\n",
            " 17  V17     284807 non-null  float64\n",
            " 18  V18     284807 non-null  float64\n",
            " 19  V19     284807 non-null  float64\n",
            " 20  V20     284807 non-null  float64\n",
            " 21  V21     284807 non-null  float64\n",
            " 22  V22     284807 non-null  float64\n",
            " 23  V23     284807 non-null  float64\n",
            " 24  V24     284807 non-null  float64\n",
            " 25  V25     284807 non-null  float64\n",
            " 26  V26     284807 non-null  float64\n",
            " 27  V27     284807 non-null  float64\n",
            " 28  V28     284807 non-null  float64\n",
            " 29  Amount  284807 non-null  float64\n",
            " 30  Class   284807 non-null  int64  \n",
            "dtypes: float64(30), int64(1)\n",
            "memory usage: 67.4 MB\n"
          ],
          "name": "stdout"
        }
      ]
    },
    {
      "cell_type": "code",
      "metadata": {
        "colab": {
          "base_uri": "https://localhost:8080/"
        },
        "id": "9tPRwfEndRXm",
        "outputId": "054ec359-2760-4ba6-a667-44ab3417b28b"
      },
      "source": [
        "# Checking missing values in each column\n",
        "df.isnull().sum()"
      ],
      "execution_count": 6,
      "outputs": [
        {
          "output_type": "execute_result",
          "data": {
            "text/plain": [
              "Time      0\n",
              "V1        0\n",
              "V2        0\n",
              "V3        0\n",
              "V4        0\n",
              "V5        0\n",
              "V6        0\n",
              "V7        0\n",
              "V8        0\n",
              "V9        0\n",
              "V10       0\n",
              "V11       0\n",
              "V12       0\n",
              "V13       0\n",
              "V14       0\n",
              "V15       0\n",
              "V16       0\n",
              "V17       0\n",
              "V18       0\n",
              "V19       0\n",
              "V20       0\n",
              "V21       0\n",
              "V22       0\n",
              "V23       0\n",
              "V24       0\n",
              "V25       0\n",
              "V26       0\n",
              "V27       0\n",
              "V28       0\n",
              "Amount    0\n",
              "Class     0\n",
              "dtype: int64"
            ]
          },
          "metadata": {
            "tags": []
          },
          "execution_count": 6
        }
      ]
    },
    {
      "cell_type": "markdown",
      "metadata": {
        "id": "zqodrJK_ggGR"
      },
      "source": [
        "There are no missing values in the dataset."
      ]
    },
    {
      "cell_type": "code",
      "metadata": {
        "colab": {
          "base_uri": "https://localhost:8080/",
          "height": 443
        },
        "id": "5og7F_hcexmu",
        "outputId": "0956bef8-ec9f-4035-f263-b8d7e11207be"
      },
      "source": [
        "# Identify duplicate values and mark all the duplicates as true\n",
        "# https://pandas.pydata.org/docs/reference/api/pandas.DataFrame.duplicated.html\n",
        "df[df.duplicated(keep=False)]"
      ],
      "execution_count": 7,
      "outputs": [
        {
          "output_type": "execute_result",
          "data": {
            "text/html": [
              "<div>\n",
              "<style scoped>\n",
              "    .dataframe tbody tr th:only-of-type {\n",
              "        vertical-align: middle;\n",
              "    }\n",
              "\n",
              "    .dataframe tbody tr th {\n",
              "        vertical-align: top;\n",
              "    }\n",
              "\n",
              "    .dataframe thead th {\n",
              "        text-align: right;\n",
              "    }\n",
              "</style>\n",
              "<table border=\"1\" class=\"dataframe\">\n",
              "  <thead>\n",
              "    <tr style=\"text-align: right;\">\n",
              "      <th></th>\n",
              "      <th>Time</th>\n",
              "      <th>V1</th>\n",
              "      <th>V2</th>\n",
              "      <th>V3</th>\n",
              "      <th>V4</th>\n",
              "      <th>V5</th>\n",
              "      <th>V6</th>\n",
              "      <th>V7</th>\n",
              "      <th>V8</th>\n",
              "      <th>V9</th>\n",
              "      <th>V10</th>\n",
              "      <th>V11</th>\n",
              "      <th>V12</th>\n",
              "      <th>V13</th>\n",
              "      <th>V14</th>\n",
              "      <th>V15</th>\n",
              "      <th>V16</th>\n",
              "      <th>V17</th>\n",
              "      <th>V18</th>\n",
              "      <th>V19</th>\n",
              "      <th>V20</th>\n",
              "      <th>V21</th>\n",
              "      <th>V22</th>\n",
              "      <th>V23</th>\n",
              "      <th>V24</th>\n",
              "      <th>V25</th>\n",
              "      <th>V26</th>\n",
              "      <th>V27</th>\n",
              "      <th>V28</th>\n",
              "      <th>Amount</th>\n",
              "      <th>Class</th>\n",
              "    </tr>\n",
              "  </thead>\n",
              "  <tbody>\n",
              "    <tr>\n",
              "      <th>32</th>\n",
              "      <td>26.0</td>\n",
              "      <td>-0.529912</td>\n",
              "      <td>0.873892</td>\n",
              "      <td>1.347247</td>\n",
              "      <td>0.145457</td>\n",
              "      <td>0.414209</td>\n",
              "      <td>0.100223</td>\n",
              "      <td>0.711206</td>\n",
              "      <td>0.176066</td>\n",
              "      <td>-0.286717</td>\n",
              "      <td>-0.484688</td>\n",
              "      <td>0.872490</td>\n",
              "      <td>0.851636</td>\n",
              "      <td>-0.571745</td>\n",
              "      <td>0.100974</td>\n",
              "      <td>-1.519772</td>\n",
              "      <td>-0.284376</td>\n",
              "      <td>-0.310524</td>\n",
              "      <td>-0.404248</td>\n",
              "      <td>-0.823374</td>\n",
              "      <td>-0.290348</td>\n",
              "      <td>0.046949</td>\n",
              "      <td>0.208105</td>\n",
              "      <td>-0.185548</td>\n",
              "      <td>0.001031</td>\n",
              "      <td>0.098816</td>\n",
              "      <td>-0.552904</td>\n",
              "      <td>-0.073288</td>\n",
              "      <td>0.023307</td>\n",
              "      <td>6.14</td>\n",
              "      <td>0</td>\n",
              "    </tr>\n",
              "    <tr>\n",
              "      <th>33</th>\n",
              "      <td>26.0</td>\n",
              "      <td>-0.529912</td>\n",
              "      <td>0.873892</td>\n",
              "      <td>1.347247</td>\n",
              "      <td>0.145457</td>\n",
              "      <td>0.414209</td>\n",
              "      <td>0.100223</td>\n",
              "      <td>0.711206</td>\n",
              "      <td>0.176066</td>\n",
              "      <td>-0.286717</td>\n",
              "      <td>-0.484688</td>\n",
              "      <td>0.872490</td>\n",
              "      <td>0.851636</td>\n",
              "      <td>-0.571745</td>\n",
              "      <td>0.100974</td>\n",
              "      <td>-1.519772</td>\n",
              "      <td>-0.284376</td>\n",
              "      <td>-0.310524</td>\n",
              "      <td>-0.404248</td>\n",
              "      <td>-0.823374</td>\n",
              "      <td>-0.290348</td>\n",
              "      <td>0.046949</td>\n",
              "      <td>0.208105</td>\n",
              "      <td>-0.185548</td>\n",
              "      <td>0.001031</td>\n",
              "      <td>0.098816</td>\n",
              "      <td>-0.552904</td>\n",
              "      <td>-0.073288</td>\n",
              "      <td>0.023307</td>\n",
              "      <td>6.14</td>\n",
              "      <td>0</td>\n",
              "    </tr>\n",
              "    <tr>\n",
              "      <th>34</th>\n",
              "      <td>26.0</td>\n",
              "      <td>-0.535388</td>\n",
              "      <td>0.865268</td>\n",
              "      <td>1.351076</td>\n",
              "      <td>0.147575</td>\n",
              "      <td>0.433680</td>\n",
              "      <td>0.086983</td>\n",
              "      <td>0.693039</td>\n",
              "      <td>0.179742</td>\n",
              "      <td>-0.285642</td>\n",
              "      <td>-0.482474</td>\n",
              "      <td>0.871800</td>\n",
              "      <td>0.853447</td>\n",
              "      <td>-0.571822</td>\n",
              "      <td>0.102252</td>\n",
              "      <td>-1.519991</td>\n",
              "      <td>-0.285912</td>\n",
              "      <td>-0.309633</td>\n",
              "      <td>-0.403902</td>\n",
              "      <td>-0.823743</td>\n",
              "      <td>-0.283264</td>\n",
              "      <td>0.049526</td>\n",
              "      <td>0.206537</td>\n",
              "      <td>-0.187108</td>\n",
              "      <td>0.000753</td>\n",
              "      <td>0.098117</td>\n",
              "      <td>-0.553471</td>\n",
              "      <td>-0.078306</td>\n",
              "      <td>0.025427</td>\n",
              "      <td>1.77</td>\n",
              "      <td>0</td>\n",
              "    </tr>\n",
              "    <tr>\n",
              "      <th>35</th>\n",
              "      <td>26.0</td>\n",
              "      <td>-0.535388</td>\n",
              "      <td>0.865268</td>\n",
              "      <td>1.351076</td>\n",
              "      <td>0.147575</td>\n",
              "      <td>0.433680</td>\n",
              "      <td>0.086983</td>\n",
              "      <td>0.693039</td>\n",
              "      <td>0.179742</td>\n",
              "      <td>-0.285642</td>\n",
              "      <td>-0.482474</td>\n",
              "      <td>0.871800</td>\n",
              "      <td>0.853447</td>\n",
              "      <td>-0.571822</td>\n",
              "      <td>0.102252</td>\n",
              "      <td>-1.519991</td>\n",
              "      <td>-0.285912</td>\n",
              "      <td>-0.309633</td>\n",
              "      <td>-0.403902</td>\n",
              "      <td>-0.823743</td>\n",
              "      <td>-0.283264</td>\n",
              "      <td>0.049526</td>\n",
              "      <td>0.206537</td>\n",
              "      <td>-0.187108</td>\n",
              "      <td>0.000753</td>\n",
              "      <td>0.098117</td>\n",
              "      <td>-0.553471</td>\n",
              "      <td>-0.078306</td>\n",
              "      <td>0.025427</td>\n",
              "      <td>1.77</td>\n",
              "      <td>0</td>\n",
              "    </tr>\n",
              "    <tr>\n",
              "      <th>112</th>\n",
              "      <td>74.0</td>\n",
              "      <td>1.038370</td>\n",
              "      <td>0.127486</td>\n",
              "      <td>0.184456</td>\n",
              "      <td>1.109950</td>\n",
              "      <td>0.441699</td>\n",
              "      <td>0.945283</td>\n",
              "      <td>-0.036715</td>\n",
              "      <td>0.350995</td>\n",
              "      <td>0.118950</td>\n",
              "      <td>-0.243289</td>\n",
              "      <td>0.578063</td>\n",
              "      <td>0.674730</td>\n",
              "      <td>-0.534231</td>\n",
              "      <td>0.446601</td>\n",
              "      <td>1.122885</td>\n",
              "      <td>-1.768001</td>\n",
              "      <td>1.241157</td>\n",
              "      <td>-2.449500</td>\n",
              "      <td>-1.747255</td>\n",
              "      <td>-0.335520</td>\n",
              "      <td>0.102520</td>\n",
              "      <td>0.605089</td>\n",
              "      <td>0.023092</td>\n",
              "      <td>-0.626463</td>\n",
              "      <td>0.479120</td>\n",
              "      <td>-0.166937</td>\n",
              "      <td>0.081247</td>\n",
              "      <td>0.001192</td>\n",
              "      <td>1.18</td>\n",
              "      <td>0</td>\n",
              "    </tr>\n",
              "    <tr>\n",
              "      <th>...</th>\n",
              "      <td>...</td>\n",
              "      <td>...</td>\n",
              "      <td>...</td>\n",
              "      <td>...</td>\n",
              "      <td>...</td>\n",
              "      <td>...</td>\n",
              "      <td>...</td>\n",
              "      <td>...</td>\n",
              "      <td>...</td>\n",
              "      <td>...</td>\n",
              "      <td>...</td>\n",
              "      <td>...</td>\n",
              "      <td>...</td>\n",
              "      <td>...</td>\n",
              "      <td>...</td>\n",
              "      <td>...</td>\n",
              "      <td>...</td>\n",
              "      <td>...</td>\n",
              "      <td>...</td>\n",
              "      <td>...</td>\n",
              "      <td>...</td>\n",
              "      <td>...</td>\n",
              "      <td>...</td>\n",
              "      <td>...</td>\n",
              "      <td>...</td>\n",
              "      <td>...</td>\n",
              "      <td>...</td>\n",
              "      <td>...</td>\n",
              "      <td>...</td>\n",
              "      <td>...</td>\n",
              "      <td>...</td>\n",
              "    </tr>\n",
              "    <tr>\n",
              "      <th>283485</th>\n",
              "      <td>171627.0</td>\n",
              "      <td>-1.457978</td>\n",
              "      <td>1.378203</td>\n",
              "      <td>0.811515</td>\n",
              "      <td>-0.603760</td>\n",
              "      <td>-0.711883</td>\n",
              "      <td>-0.471672</td>\n",
              "      <td>-0.282535</td>\n",
              "      <td>0.880654</td>\n",
              "      <td>0.052808</td>\n",
              "      <td>-0.830603</td>\n",
              "      <td>-1.191774</td>\n",
              "      <td>0.942870</td>\n",
              "      <td>1.372621</td>\n",
              "      <td>-0.037988</td>\n",
              "      <td>-0.208490</td>\n",
              "      <td>0.321883</td>\n",
              "      <td>-0.205951</td>\n",
              "      <td>-0.025225</td>\n",
              "      <td>-0.468427</td>\n",
              "      <td>0.023667</td>\n",
              "      <td>0.284205</td>\n",
              "      <td>0.949659</td>\n",
              "      <td>-0.216949</td>\n",
              "      <td>0.083250</td>\n",
              "      <td>0.044944</td>\n",
              "      <td>0.639933</td>\n",
              "      <td>0.219432</td>\n",
              "      <td>0.116772</td>\n",
              "      <td>11.93</td>\n",
              "      <td>0</td>\n",
              "    </tr>\n",
              "    <tr>\n",
              "      <th>284190</th>\n",
              "      <td>172233.0</td>\n",
              "      <td>-2.667936</td>\n",
              "      <td>3.160505</td>\n",
              "      <td>-3.355984</td>\n",
              "      <td>1.007845</td>\n",
              "      <td>-0.377397</td>\n",
              "      <td>-0.109730</td>\n",
              "      <td>-0.667233</td>\n",
              "      <td>2.309700</td>\n",
              "      <td>-1.639306</td>\n",
              "      <td>-1.449823</td>\n",
              "      <td>-0.508930</td>\n",
              "      <td>0.600035</td>\n",
              "      <td>-0.627313</td>\n",
              "      <td>1.017499</td>\n",
              "      <td>-0.887384</td>\n",
              "      <td>0.420096</td>\n",
              "      <td>1.856497</td>\n",
              "      <td>1.315099</td>\n",
              "      <td>1.096112</td>\n",
              "      <td>-0.821707</td>\n",
              "      <td>0.391483</td>\n",
              "      <td>0.266536</td>\n",
              "      <td>-0.079853</td>\n",
              "      <td>-0.096395</td>\n",
              "      <td>0.086719</td>\n",
              "      <td>-0.451128</td>\n",
              "      <td>-1.183743</td>\n",
              "      <td>-0.222200</td>\n",
              "      <td>55.66</td>\n",
              "      <td>0</td>\n",
              "    </tr>\n",
              "    <tr>\n",
              "      <th>284191</th>\n",
              "      <td>172233.0</td>\n",
              "      <td>-2.667936</td>\n",
              "      <td>3.160505</td>\n",
              "      <td>-3.355984</td>\n",
              "      <td>1.007845</td>\n",
              "      <td>-0.377397</td>\n",
              "      <td>-0.109730</td>\n",
              "      <td>-0.667233</td>\n",
              "      <td>2.309700</td>\n",
              "      <td>-1.639306</td>\n",
              "      <td>-1.449823</td>\n",
              "      <td>-0.508930</td>\n",
              "      <td>0.600035</td>\n",
              "      <td>-0.627313</td>\n",
              "      <td>1.017499</td>\n",
              "      <td>-0.887384</td>\n",
              "      <td>0.420096</td>\n",
              "      <td>1.856497</td>\n",
              "      <td>1.315099</td>\n",
              "      <td>1.096112</td>\n",
              "      <td>-0.821707</td>\n",
              "      <td>0.391483</td>\n",
              "      <td>0.266536</td>\n",
              "      <td>-0.079853</td>\n",
              "      <td>-0.096395</td>\n",
              "      <td>0.086719</td>\n",
              "      <td>-0.451128</td>\n",
              "      <td>-1.183743</td>\n",
              "      <td>-0.222200</td>\n",
              "      <td>55.66</td>\n",
              "      <td>0</td>\n",
              "    </tr>\n",
              "    <tr>\n",
              "      <th>284192</th>\n",
              "      <td>172233.0</td>\n",
              "      <td>-2.691642</td>\n",
              "      <td>3.123168</td>\n",
              "      <td>-3.339407</td>\n",
              "      <td>1.017018</td>\n",
              "      <td>-0.293095</td>\n",
              "      <td>-0.167054</td>\n",
              "      <td>-0.745886</td>\n",
              "      <td>2.325616</td>\n",
              "      <td>-1.634651</td>\n",
              "      <td>-1.440241</td>\n",
              "      <td>-0.511918</td>\n",
              "      <td>0.607878</td>\n",
              "      <td>-0.627645</td>\n",
              "      <td>1.023032</td>\n",
              "      <td>-0.888334</td>\n",
              "      <td>0.413444</td>\n",
              "      <td>1.860351</td>\n",
              "      <td>1.316597</td>\n",
              "      <td>1.094512</td>\n",
              "      <td>-0.791037</td>\n",
              "      <td>0.402639</td>\n",
              "      <td>0.259746</td>\n",
              "      <td>-0.086606</td>\n",
              "      <td>-0.097597</td>\n",
              "      <td>0.083693</td>\n",
              "      <td>-0.453584</td>\n",
              "      <td>-1.205466</td>\n",
              "      <td>-0.213020</td>\n",
              "      <td>36.74</td>\n",
              "      <td>0</td>\n",
              "    </tr>\n",
              "    <tr>\n",
              "      <th>284193</th>\n",
              "      <td>172233.0</td>\n",
              "      <td>-2.691642</td>\n",
              "      <td>3.123168</td>\n",
              "      <td>-3.339407</td>\n",
              "      <td>1.017018</td>\n",
              "      <td>-0.293095</td>\n",
              "      <td>-0.167054</td>\n",
              "      <td>-0.745886</td>\n",
              "      <td>2.325616</td>\n",
              "      <td>-1.634651</td>\n",
              "      <td>-1.440241</td>\n",
              "      <td>-0.511918</td>\n",
              "      <td>0.607878</td>\n",
              "      <td>-0.627645</td>\n",
              "      <td>1.023032</td>\n",
              "      <td>-0.888334</td>\n",
              "      <td>0.413444</td>\n",
              "      <td>1.860351</td>\n",
              "      <td>1.316597</td>\n",
              "      <td>1.094512</td>\n",
              "      <td>-0.791037</td>\n",
              "      <td>0.402639</td>\n",
              "      <td>0.259746</td>\n",
              "      <td>-0.086606</td>\n",
              "      <td>-0.097597</td>\n",
              "      <td>0.083693</td>\n",
              "      <td>-0.453584</td>\n",
              "      <td>-1.205466</td>\n",
              "      <td>-0.213020</td>\n",
              "      <td>36.74</td>\n",
              "      <td>0</td>\n",
              "    </tr>\n",
              "  </tbody>\n",
              "</table>\n",
              "<p>1854 rows × 31 columns</p>\n",
              "</div>"
            ],
            "text/plain": [
              "            Time        V1        V2  ...       V28  Amount  Class\n",
              "32          26.0 -0.529912  0.873892  ...  0.023307    6.14      0\n",
              "33          26.0 -0.529912  0.873892  ...  0.023307    6.14      0\n",
              "34          26.0 -0.535388  0.865268  ...  0.025427    1.77      0\n",
              "35          26.0 -0.535388  0.865268  ...  0.025427    1.77      0\n",
              "112         74.0  1.038370  0.127486  ...  0.001192    1.18      0\n",
              "...          ...       ...       ...  ...       ...     ...    ...\n",
              "283485  171627.0 -1.457978  1.378203  ...  0.116772   11.93      0\n",
              "284190  172233.0 -2.667936  3.160505  ... -0.222200   55.66      0\n",
              "284191  172233.0 -2.667936  3.160505  ... -0.222200   55.66      0\n",
              "284192  172233.0 -2.691642  3.123168  ... -0.213020   36.74      0\n",
              "284193  172233.0 -2.691642  3.123168  ... -0.213020   36.74      0\n",
              "\n",
              "[1854 rows x 31 columns]"
            ]
          },
          "metadata": {
            "tags": []
          },
          "execution_count": 7
        }
      ]
    },
    {
      "cell_type": "markdown",
      "metadata": {
        "id": "5A6LTxp8hpuH"
      },
      "source": [
        "From the result above, we can see that the dataset contains many duplicate values. So, I'm going to remove the repeated observations except for the first occurrence of each instance. "
      ]
    },
    {
      "cell_type": "code",
      "metadata": {
        "id": "_HqNjguWjHWn"
      },
      "source": [
        "# https://pandas.pydata.org/docs/reference/api/pandas.DataFrame.drop_duplicates.html\n",
        "df = df.drop_duplicates(keep='first')"
      ],
      "execution_count": 4,
      "outputs": []
    },
    {
      "cell_type": "code",
      "metadata": {
        "colab": {
          "base_uri": "https://localhost:8080/"
        },
        "id": "YhRa7wvOTTZD",
        "outputId": "2f8114f1-e835-4cad-d909-4848c384cb71"
      },
      "source": [
        "# Check the distribution of the credit card fraud cases \n",
        "class_proportion = df['Class'].value_counts()\n",
        "class_proportion"
      ],
      "execution_count": 5,
      "outputs": [
        {
          "output_type": "execute_result",
          "data": {
            "text/plain": [
              "0    283253\n",
              "1       473\n",
              "Name: Class, dtype: int64"
            ]
          },
          "metadata": {
            "tags": []
          },
          "execution_count": 5
        }
      ]
    },
    {
      "cell_type": "code",
      "metadata": {
        "colab": {
          "base_uri": "https://localhost:8080/",
          "height": 518
        },
        "id": "4kECE-k9TXBS",
        "outputId": "d2a4303c-1710-493c-8695-1e72ebb8e2e1"
      },
      "source": [
        "# Plotting a barchart to see the the distribution of the credit card fraud cases\n",
        "# https://seaborn.pydata.org/generated/seaborn.barplot.html\n",
        "# https://seaborn.pydata.org/generated/seaborn.color_palette.html#seaborn.color_palette\n",
        "# https://matplotlib.org/stable/api/legend_api.html\n",
        "# https://matplotlib.org/stable/api/font_manager_api.html#matplotlib.font_manager.FontProperties\n",
        "\n",
        "plt.style.use('seaborn')\n",
        "font1 = {'family': 'serif', \n",
        "        'fontstyle': 'italic',\n",
        "        'fontsize': 16,\n",
        "        'fontweight': 'bold',\n",
        "        'color': 'DarkBlue'}\n",
        "font2 = {'weight': 'bold', 'size': 12}\n",
        "font3 = {'weight': 'normal', 'size': 12}\n",
        "\n",
        "fig, ax = plt.subplots(figsize=(12, 8))\n",
        "sns.barplot(class_proportion.index, class_proportion.values, palette='Set2')\n",
        "ax.set_title('Distribution of Credit Card Fraud Class', fontdict=font1)\n",
        "ax.set_xlabel('Fraud class', fontdict=font2)\n",
        "ax.set_xticklabels(ax.get_xticklabels(), rotation=0)\n",
        "ax.set_ylabel('Number of transactions', fontdict=font2)\n",
        "ax.set_yscale('log')\n",
        "handles, labels = ax.get_legend_handles_labels()\n",
        "ax.legend(handles, labels=['0: No Fraud', '1: Fraud'], prop= font3, \n",
        "          title ='Fraud Class:', title_fontsize=14,\n",
        "          frameon=True, facecolor='white')\n",
        "plt.show()"
      ],
      "execution_count": 6,
      "outputs": [
        {
          "output_type": "display_data",
          "data": {
            "image/png": "[encoded data removed]",
            "text/plain": [
              "<Figure size 864x576 with 1 Axes>"
            ]
          },
          "metadata": {
            "tags": []
          }
        }
      ]
    },
    {
      "cell_type": "markdown",
      "metadata": {
        "id": "LjDxWePjnZKy"
      },
      "source": [
        "From the barchart, we can see that the number of legitimate credit card transactions is extremely higher the number of fraudulent transactions. This is obviously expected because fraud detection is one of the problem domains where the class distribution is inherently imbalanced. I would have been surprised if the fraudulent transactions happened to be higher the legitimate ones because it indicates that these banking institutions were facing serious security breaches which could lead to loss of revenue, interruptions in operations and loss of both reputation and customers. Anyways, we need to deal with this huge data imbalance as it can hamper the accuracy of our classification model. "
      ]
    },
    {
      "cell_type": "markdown",
      "metadata": {
        "id": "W2nyJD-lxIA3"
      },
      "source": [
        "##**Feature Engineering and Data Modeling**"
      ]
    },
    {
      "cell_type": "code",
      "metadata": {
        "id": "YD0qNr5wlvVp",
        "colab": {
          "base_uri": "https://localhost:8080/"
        },
        "outputId": "6f7290d2-3851-4330-9883-e213ff365e8c"
      },
      "source": [
        "# Check the proportion of the fraud cases and identify the imbalance\n",
        "# https://www.analyticsvidhya.com/blog/2020/07/10-techniques-to-deal-with-class-imbalance-in-machine-learning/\n",
        "# https://www.kdnuggets.com/2017/06/7-techniques-handle-imbalanced-data.html\n",
        "# https://machinelearningmastery.com/tactics-to-combat-imbalanced-classes-in-your-machine-learning-dataset/\n",
        "\n",
        "df['Class'].value_counts(normalize=True)"
      ],
      "execution_count": 7,
      "outputs": [
        {
          "output_type": "execute_result",
          "data": {
            "text/plain": [
              "0    0.998333\n",
              "1    0.001667\n",
              "Name: Class, dtype: float64"
            ]
          },
          "metadata": {
            "tags": []
          },
          "execution_count": 7
        }
      ]
    },
    {
      "cell_type": "markdown",
      "metadata": {
        "id": "xe_7ICXIrnLO"
      },
      "source": [
        "From the above result, we can observe that the number of fraudulent transactions is relatively rare. It only makes up about 0.2% of the entire transactions. This is super imbalanced. If we take this proportion as a baseline model, we will get a pretty high accuracy of 99.8% by creating a model which just predicts everything to be 0 whatever input data comes in. But this will fail to capture the minority class, although typically it is the model performance on the minority class which is the most important. \n",
        "\n",
        "To summarize, in a dataset with highly imbalanced cases, accuracy score can be misleading because a high accuracy rate is achieved not because our model is any good but simply because the classifier algorithm will always predict the majority class without performing any analysis of the features. \n",
        "\n",
        "\n"
      ]
    },
    {
      "cell_type": "markdown",
      "metadata": {
        "id": "X3BIdvmdjuO6"
      },
      "source": [
        "**Balancing out the dataset with resampling techniques**\n",
        ">There are many approaches to solve this type of highly imbalanced binary classification problem. The simplest and most widely adopted techniques are undersampling and oversampling. The former involves removing some records from the majority class, while the latter is adding more random copies to the minority class. Both techniques are done until the majority and minority class is balanced out. But I'm going to oversample the minority class using Synthetic Minority Oversampling Technique(SMOTE). This is a more sophisticated resampling technique which introduces small variations into the copies of the minority class observations instead of those exact copies, generating more diverse sythetic samples. The SMOTE class lives in the *imblearn.over_sampling* module of the Python *imbalanced-learn* libray(imported as imblearn), which in fact relies on scikit-learn(imported as sklearn) and is part of scikit-learn-contrib projects. "
      ]
    },
    {
      "cell_type": "code",
      "metadata": {
        "id": "1Cn-9aZnHAqa"
      },
      "source": [
        "# Arrange the dataset into features matrix and target vector\n",
        "# Drop the 'Time' variable as it does not that much help our analysis\n",
        "X = df.drop(columns=(['Time', 'Class']))\n",
        "y = df['Class']"
      ],
      "execution_count": 8,
      "outputs": []
    },
    {
      "cell_type": "code",
      "metadata": {
        "id": "AIXCQ587Hckn"
      },
      "source": [
        "# Make a SMOTE instance, then fit and apply it in one step \n",
        "# to create an oversampled version of our dataset.\n",
        "# https://machinelearningmastery.com/smote-oversampling-for-imbalanced-classification/\n",
        "\n",
        "sm = SMOTE(sampling_strategy='auto', random_state=3, k_neighbors=5)\n",
        "X_oversampled , y_oversampled = sm.fit_resample(X, y)"
      ],
      "execution_count": 9,
      "outputs": []
    },
    {
      "cell_type": "code",
      "metadata": {
        "colab": {
          "base_uri": "https://localhost:8080/"
        },
        "id": "Y9nfR5tf01Hn",
        "outputId": "5e562c56-7ce8-4044-9e8a-e9399c411ddd"
      },
      "source": [
        "# Summarize the fraud class distribution of the new SMOTE-transformed dataset\n",
        "# https://stackoverflow.com/questions/28663856/how-to-count-the-occurrence-of-certain-item-in-an-ndarray\n",
        "\n",
        "unique_original, counts_original = np.unique(y, return_counts=True)\n",
        "unique_oversampled, counts_oversampled = np.unique(y_oversampled, return_counts=True)\n",
        "\n",
        "print('Original fraud class distribution:', dict(zip(unique_original, counts_original)))\n",
        "print('New transformed fraud class distribution:',dict(zip(unique_oversampled, counts_oversampled)))"
      ],
      "execution_count": 10,
      "outputs": [
        {
          "output_type": "stream",
          "text": [
            "Original fraud class distribution: {0: 283253, 1: 473}\n",
            "New transformed fraud class distribution: {0: 283253, 1: 283253}\n"
          ],
          "name": "stdout"
        }
      ]
    },
    {
      "cell_type": "code",
      "metadata": {
        "colab": {
          "base_uri": "https://localhost:8080/",
          "height": 518
        },
        "id": "9rwFJFmKnNPp",
        "outputId": "ee10e5fc-c09f-4a32-9410-5608ed524129"
      },
      "source": [
        "# Now visualize the SMOTE-transformed target variable\n",
        "# https://stackoverflow.com/questions/54304913/what-is-major-difference-between-histogram-countplot-and-distplot-in-seaborn-lib\n",
        "plt.style.use('seaborn')\n",
        "font1 = {'family': 'serif', \n",
        "        'fontstyle': 'italic',\n",
        "        'fontsize': 16,\n",
        "        'fontweight': 'bold',\n",
        "        'color': 'DarkBlue'}\n",
        "font2 = {'weight': 'bold', 'size': 12}\n",
        "\n",
        "fig, ax = plt.subplots(figsize=(12, 8))\n",
        "sns.countplot(y_oversampled, palette='Set2', ax=ax)\n",
        "ax.set_title('Distribution of Imbalanced Fraud Class Transformed by SMOTE', fontdict=font1)\n",
        "ax.set_xlabel('Fraud class', fontdict=font2)\n",
        "ax.set_xticklabels(['Non-fraudulent', 'Fraudulent'])\n",
        "ax.set_ylabel('Number of transactions', fontdict=font2)\n",
        "plt.show()"
      ],
      "execution_count": 14,
      "outputs": [
        {
          "output_type": "display_data",
          "data": {
            "image/png": "[encoded data removed]",
            "text/plain": [
              "<Figure size 864x576 with 1 Axes>"
            ]
          },
          "metadata": {
            "tags": []
          }
        }
      ]
    },
    {
      "cell_type": "markdown",
      "metadata": {
        "id": "WdnNhwg5zV0F"
      },
      "source": [
        "From the class distribution summary and barchart above, we can see the dataset is transformed using the SMOTE and the new class distribution is is balaced, having now with equal samples in the minority class."
      ]
    },
    {
      "cell_type": "markdown",
      "metadata": {
        "id": "IV2gxhAV6IKo"
      },
      "source": [
        "**1. Random Forest Classifier(RFC) Model**"
      ]
    },
    {
      "cell_type": "code",
      "metadata": {
        "id": "gpAYfFFtVw09"
      },
      "source": [
        "# Separate the transformed features matrix and target vector into random train and test subsets\n",
        "X_train, X_test, y_train, y_test = train_test_split(X_oversampled, y_oversampled, random_state=3)"
      ],
      "execution_count": 11,
      "outputs": []
    },
    {
      "cell_type": "code",
      "metadata": {
        "colab": {
          "base_uri": "https://localhost:8080/"
        },
        "id": "lskxZBeOm5rC",
        "outputId": "687d34c1-0c13-4996-da96-7ecfc810900e"
      },
      "source": [
        "# Instantiate and fit the model\n",
        "rfc = RandomForestClassifier(n_estimators=150)\n",
        "rfc.fit(X_train, y_train)"
      ],
      "execution_count": 12,
      "outputs": [
        {
          "output_type": "execute_result",
          "data": {
            "text/plain": [
              "RandomForestClassifier(bootstrap=True, ccp_alpha=0.0, class_weight=None,\n",
              "                       criterion='gini', max_depth=None, max_features='auto',\n",
              "                       max_leaf_nodes=None, max_samples=None,\n",
              "                       min_impurity_decrease=0.0, min_impurity_split=None,\n",
              "                       min_samples_leaf=1, min_samples_split=2,\n",
              "                       min_weight_fraction_leaf=0.0, n_estimators=150,\n",
              "                       n_jobs=None, oob_score=False, random_state=None,\n",
              "                       verbose=0, warm_start=False)"
            ]
          },
          "metadata": {
            "tags": []
          },
          "execution_count": 12
        }
      ]
    },
    {
      "cell_type": "code",
      "metadata": {
        "colab": {
          "base_uri": "https://localhost:8080/"
        },
        "id": "mOOM8-SQ4HCM",
        "outputId": "dc6203b1-0247-4ba0-9b93-53f5ba898d40"
      },
      "source": [
        "# Model Evalution -classification accuracy\n",
        "training_rfc_accuracy = rfc.score(X_train, y_train)\n",
        "testing_rfc_accuracy = rfc.score(X_test, y_test)\n",
        "\n",
        "print(\"Training RFC Accuracy:\", training_rfc_accuracy)\n",
        "print(\"Testing RFC Accuracy:\", testing_rfc_accuracy )"
      ],
      "execution_count": 14,
      "outputs": [
        {
          "output_type": "stream",
          "text": [
            "Training RFC Accuracy: 1.0\n",
            "Testing RFC Accuracy: 0.9998729055900358\n"
          ],
          "name": "stdout"
        }
      ]
    },
    {
      "cell_type": "markdown",
      "metadata": {
        "id": "mB5dZIHZ6az7"
      },
      "source": [
        "Earlier I mentioned that accuracy can be a misleading metric to evaluate a model for a dataset with highly imbalanced classes. But in our case, I've managed to beat the baseline model accuracy score(99.80%). From the result above, we can see that the accuracy score I got is about 99.99%, which is higher than the baseline model accuracy score.\n",
        "\n",
        "Next, I will be using the following four most useful metrics to evaluate the performance of a model for highly imbalanced binary-class datasets:\n",
        "> 1. Sensitivity (True Positive Rate)\n",
        "> 2. Specificity (True Negative Rate)\n",
        "> 3. Precision (Positive Predictive Value)\n",
        "> 4. Area Under ROC Curve (AUROC)\n",
        "\n",
        "\n"
      ]
    },
    {
      "cell_type": "code",
      "metadata": {
        "colab": {
          "base_uri": "https://localhost:8080/",
          "height": 424
        },
        "id": "hCkfLHIIZusz",
        "outputId": "4783f035-54b5-4157-c4c3-f15141e84518"
      },
      "source": [
        "# Plotting the confusion matrix \n",
        "fig, ax = plt.subplots(figsize=(8, 8))\n",
        "font1 = {'family': 'serif', \n",
        "        'fontstyle': 'italic',\n",
        "        'fontsize': 16,\n",
        "        'fontweight': 'bold',\n",
        "        'color': 'DarkRed'}\n",
        "font2 = {'weight': 'bold', 'size': 12}\n",
        "\n",
        "sns.heatmap(confusion_matrix(y_test, rfc.predict(X_test)), \n",
        "            cmap='Blues', \n",
        "            square=True,\n",
        "            annot=True,\n",
        "            fmt='d',\n",
        "            cbar_kws={'shrink': 0.8},\n",
        "            xticklabels=['Predicted 0s', 'Predicted 1s'],\n",
        "            yticklabels=['Actual 0s', 'Actual 1s'])\n",
        "ax.set_title('Confusion Matrix', fontdict=font1)\n",
        "plt.show()"
      ],
      "execution_count": 15,
      "outputs": [
        {
          "output_type": "display_data",
          "data": {
            "image/png": "[encoded data removed]",
            "text/plain": [
              "<Figure size 576x576 with 2 Axes>"
            ]
          },
          "metadata": {
            "tags": []
          }
        }
      ]
    },
    {
      "cell_type": "code",
      "metadata": {
        "colab": {
          "base_uri": "https://localhost:8080/"
        },
        "id": "Vkyhn69ZtzLZ",
        "outputId": "a7f705b3-130a-4a40-cc9f-b4c69baaa208"
      },
      "source": [
        "# Model evaluation - Sensitivity, Specificity and Precision \n",
        "# https://machinelearningmastery.com/roc-curves-and-precision-recall-curves-for-classification-in-python/\n",
        "# https://en.wikipedia.org/wiki/Receiver_operating_characteristic\n",
        "\n",
        "TN, FP, FN, TP = confusion_matrix(y_test, rfc.predict(X_test)).flatten()\n",
        "print(\"True Negatives:\", TN)\n",
        "print(\"False Positives:\", FP)\n",
        "print(\"False Negatives:\", FN)\n",
        "print(\"True Positives:\", TP)\n",
        "\n",
        "sensitivity = TP/(TP + FN)\n",
        "specificity = TN/(TN + FP)\n",
        "precision = TP/(TP + FP)\n",
        "print(\"\\nSensitivity:\", sensitivity)\n",
        "print(\"Specificity:\", specificity)\n",
        "print(\"Precision:\", precision)"
      ],
      "execution_count": 16,
      "outputs": [
        {
          "output_type": "stream",
          "text": [
            "True Negatives: 70610\n",
            "False Positives: 18\n",
            "False Negatives: 0\n",
            "True Positives: 70999\n",
            "\n",
            "Sensitivity: 1.0\n",
            "Specificity: 0.9997451435691227\n",
            "Precision: 0.9997465395609502\n"
          ],
          "name": "stdout"
        }
      ]
    },
    {
      "cell_type": "markdown",
      "metadata": {
        "id": "RPRUeARa-lcu"
      },
      "source": [
        "From the confusion matrix and the statistics above, we can see that our model is 100% accurate in detecting fraud. This means our model is very highly sensitive, which is in fact what the banking institutions may be more concerned for because a false negative (ignoring the probability of a transaction being fraud when there actually is one) is more dangerous than a false positive. \n",
        "\n",
        "Of course, in a credit card fraud detection system, a smart model with good classification accuracy rate should also have significantly less false positives because the errors can cost the banks billions of dollars in lost revenue as customers getting declined in legitimate transactions may get frustrated and then refrain from using that credit card anymore. "
      ]
    },
    {
      "cell_type": "code",
      "metadata": {
        "colab": {
          "base_uri": "https://localhost:8080/"
        },
        "id": "8ug_bKawavAn",
        "outputId": "35eb72e5-9ecd-4c71-baeb-5b1f297175ab"
      },
      "source": [
        "# Check the predicted probabilities for every observation in the test data subset \n",
        "# Note that the default classification threshold is 0.5\n",
        "testing_probabilities= rfc.predict_proba(X_test)\n",
        "testing_probabilities"
      ],
      "execution_count": 21,
      "outputs": [
        {
          "output_type": "execute_result",
          "data": {
            "text/plain": [
              "array([[0.        , 1.        ],\n",
              "       [0.        , 1.        ],\n",
              "       [0.        , 1.        ],\n",
              "       ...,\n",
              "       [0.99333333, 0.00666667],\n",
              "       [0.99333333, 0.00666667],\n",
              "       [0.        , 1.        ]])"
            ]
          },
          "metadata": {
            "tags": []
          },
          "execution_count": 21
        }
      ]
    },
    {
      "cell_type": "markdown",
      "metadata": {
        "id": "AsoVkn0Ac_1z"
      },
      "source": [
        "As we can see from the above result, the matrix of probabilities being returned indicates the predicted class is equal to 0 or 1. In this matrix, each each row corresponds to a single observation: The first column is the probability of the predicted output being zero(non-fraud), that is 1 - 𝑝(𝑥_test), and the second column is the probability that the output is one(fraud), or 𝑝(𝑥_test)."
      ]
    },
    {
      "cell_type": "code",
      "metadata": {
        "colab": {
          "base_uri": "https://localhost:8080/",
          "height": 206
        },
        "id": "t0JJfnmDeIfD",
        "outputId": "bd6e292c-5b26-4902-bd80-f5cefaee116c"
      },
      "source": [
        "# Convert the testing probabilities into a dataframe\n",
        "testing_probabilities_df = pd.DataFrame(testing_probabilities, columns=['1 - 𝑝(X_test)', '𝑝(X_test)'])\n",
        "testing_probabilities_df.head()"
      ],
      "execution_count": 22,
      "outputs": [
        {
          "output_type": "execute_result",
          "data": {
            "text/html": [
              "<div>\n",
              "<style scoped>\n",
              "    .dataframe tbody tr th:only-of-type {\n",
              "        vertical-align: middle;\n",
              "    }\n",
              "\n",
              "    .dataframe tbody tr th {\n",
              "        vertical-align: top;\n",
              "    }\n",
              "\n",
              "    .dataframe thead th {\n",
              "        text-align: right;\n",
              "    }\n",
              "</style>\n",
              "<table border=\"1\" class=\"dataframe\">\n",
              "  <thead>\n",
              "    <tr style=\"text-align: right;\">\n",
              "      <th></th>\n",
              "      <th>1 - 𝑝(X_test)</th>\n",
              "      <th>𝑝(X_test)</th>\n",
              "    </tr>\n",
              "  </thead>\n",
              "  <tbody>\n",
              "    <tr>\n",
              "      <th>0</th>\n",
              "      <td>0.0</td>\n",
              "      <td>1.0</td>\n",
              "    </tr>\n",
              "    <tr>\n",
              "      <th>1</th>\n",
              "      <td>0.0</td>\n",
              "      <td>1.0</td>\n",
              "    </tr>\n",
              "    <tr>\n",
              "      <th>2</th>\n",
              "      <td>0.0</td>\n",
              "      <td>1.0</td>\n",
              "    </tr>\n",
              "    <tr>\n",
              "      <th>3</th>\n",
              "      <td>1.0</td>\n",
              "      <td>0.0</td>\n",
              "    </tr>\n",
              "    <tr>\n",
              "      <th>4</th>\n",
              "      <td>0.0</td>\n",
              "      <td>1.0</td>\n",
              "    </tr>\n",
              "  </tbody>\n",
              "</table>\n",
              "</div>"
            ],
            "text/plain": [
              "   1 - 𝑝(X_test)  𝑝(X_test)\n",
              "0            0.0        1.0\n",
              "1            0.0        1.0\n",
              "2            0.0        1.0\n",
              "3            1.0        0.0\n",
              "4            0.0        1.0"
            ]
          },
          "metadata": {
            "tags": []
          },
          "execution_count": 22
        }
      ]
    },
    {
      "cell_type": "code",
      "metadata": {
        "colab": {
          "base_uri": "https://localhost:8080/"
        },
        "id": "Nkqe9beufZ-Z",
        "outputId": "e2896b3c-0931-4585-9191-7a3723a6f14c"
      },
      "source": [
        "# Get predictions\n",
        "rfc.predict(X_test)"
      ],
      "execution_count": 19,
      "outputs": [
        {
          "output_type": "execute_result",
          "data": {
            "text/plain": [
              "array([1, 1, 1, ..., 0, 0, 1])"
            ]
          },
          "metadata": {
            "tags": []
          },
          "execution_count": 19
        }
      ]
    },
    {
      "cell_type": "code",
      "metadata": {
        "colab": {
          "base_uri": "https://localhost:8080/"
        },
        "id": "rdKr4IJKiSTY",
        "outputId": "a408e8fc-ef96-4bb0-e471-64f50bbc4494"
      },
      "source": [
        "# Model evaluation -AUC\n",
        "# Calculate AUC for both training and testing subsets\n",
        "# Only probabilities being in the positive class is needed for the calculation, that is the second column\n",
        "training_rfc_AUC = roc_auc_score(y_train, rfc.predict_proba(X_train)[:, 1]) \n",
        "testing_rfc_AUC = roc_auc_score(y_test, rfc.predict_proba(X_test)[:, 1])\n",
        "\n",
        "print(\"Training RFC AUC:\", training_rfc_AUC)\n",
        "print(\"Testing RFC AUC:\", testing_rfc_AUC)"
      ],
      "execution_count": 23,
      "outputs": [
        {
          "output_type": "stream",
          "text": [
            "Training RFC AUC: 1.0\n",
            "Testing RFC AUC: 0.9999914201114866\n"
          ],
          "name": "stdout"
        }
      ]
    },
    {
      "cell_type": "markdown",
      "metadata": {
        "id": "QT05R6R5H2uF"
      },
      "source": [
        "**2. Logistic Regression Model**"
      ]
    },
    {
      "cell_type": "code",
      "metadata": {
        "id": "psqbtWooH8Bd"
      },
      "source": [
        "# Separate the transformed features matrix and target vector into random train and test subsets\n",
        "X_train, X_test, y_train, y_test = train_test_split(X_oversampled, y_oversampled, random_state=3)"
      ],
      "execution_count": 32,
      "outputs": []
    },
    {
      "cell_type": "markdown",
      "metadata": {
        "id": "YIpDr_0HUT53"
      },
      "source": [
        "*Automating hyperparameters*:\n",
        ">I will use GridSearch to find the Logistic Regression model with the best performing hyperparameter combination. Here, noet that we don't have to scale the data again as it were already done during the Principal Component Analysis transformation due confidentiality issues"
      ]
    },
    {
      "cell_type": "code",
      "metadata": {
        "id": "JiXOkU9YKH5U"
      },
      "source": [
        "# define dictionary of hyperparameters\n",
        "params = {'penalty': ['l1', 'l2'],\n",
        "             'C': [0.0001, 0.001, 0.01, 10, 100, 100],\n",
        "             'class_weight': [None, 'balanced']}"
      ],
      "execution_count": 33,
      "outputs": []
    },
    {
      "cell_type": "code",
      "metadata": {
        "colab": {
          "base_uri": "https://localhost:8080/"
        },
        "id": "758ie84WKMAf",
        "outputId": "6e0cf9d7-d058-4701-e8b2-c8ad6fa19c65"
      },
      "source": [
        "# Instantiate Logistic Regression model. N.B: the default solver doesn't support l1 regularization\n",
        "# Instantiate Grid Search to find the best hyperparameters and fit the model\n",
        "logreg = LogisticRegression(solver='liblinear')\n",
        "gs = GridSearchCV(logreg, params, cv = 5)\n",
        "gs.fit(X_train, y_train)"
      ],
      "execution_count": 34,
      "outputs": [
        {
          "output_type": "execute_result",
          "data": {
            "text/plain": [
              "GridSearchCV(cv=5, error_score=nan,\n",
              "             estimator=LogisticRegression(C=1.0, class_weight=None, dual=False,\n",
              "                                          fit_intercept=True,\n",
              "                                          intercept_scaling=1, l1_ratio=None,\n",
              "                                          max_iter=100, multi_class='auto',\n",
              "                                          n_jobs=None, penalty='l2',\n",
              "                                          random_state=None, solver='liblinear',\n",
              "                                          tol=0.0001, verbose=0,\n",
              "                                          warm_start=False),\n",
              "             iid='deprecated', n_jobs=None,\n",
              "             param_grid={'C': [0.0001, 0.001, 0.01, 10, 100, 100],\n",
              "                         'class_weight': [None, 'balanced'],\n",
              "                         'penalty': ['l1', 'l2']},\n",
              "             pre_dispatch='2*n_jobs', refit=True, return_train_score=False,\n",
              "             scoring=None, verbose=0)"
            ]
          },
          "metadata": {
            "tags": []
          },
          "execution_count": 34
        }
      ]
    },
    {
      "cell_type": "code",
      "metadata": {
        "colab": {
          "base_uri": "https://localhost:8080/"
        },
        "id": "Iq2ppCTHXTT-",
        "outputId": "3acc7831-b06a-47e2-d8d4-327fbc6318a3"
      },
      "source": [
        "gs.best_estimator_"
      ],
      "execution_count": 35,
      "outputs": [
        {
          "output_type": "execute_result",
          "data": {
            "text/plain": [
              "LogisticRegression(C=10, class_weight='balanced', dual=False,\n",
              "                   fit_intercept=True, intercept_scaling=1, l1_ratio=None,\n",
              "                   max_iter=100, multi_class='auto', n_jobs=None, penalty='l2',\n",
              "                   random_state=None, solver='liblinear', tol=0.0001, verbose=0,\n",
              "                   warm_start=False)"
            ]
          },
          "metadata": {
            "tags": []
          },
          "execution_count": 35
        }
      ]
    },
    {
      "cell_type": "code",
      "metadata": {
        "colab": {
          "base_uri": "https://localhost:8080/"
        },
        "id": "jlTC1uV8JHqF",
        "outputId": "8f54867d-cb78-43a7-c377-30c1b4963444"
      },
      "source": [
        "# Model evaluation - accuracy \n",
        "training_logreg_accuracy = gs.score(X_train, y_train)\n",
        "testing_logreg_accuracy = gs.score(X_test, y_test)\n",
        "\n",
        "print(\"Training Logreg Accuracy:\", training_logreg_accuracy)\n",
        "print(\"Testing Logreg Accuracy:\", testing_logreg_accuracy)"
      ],
      "execution_count": 37,
      "outputs": [
        {
          "output_type": "stream",
          "text": [
            "Training Logreg Accuracy: 0.9586494037125864\n",
            "Testing Logreg Accuracy: 0.9577269870857957\n"
          ],
          "name": "stdout"
        }
      ]
    },
    {
      "cell_type": "code",
      "metadata": {
        "colab": {
          "base_uri": "https://localhost:8080/",
          "height": 380
        },
        "id": "gQCcOA2IaA-_",
        "outputId": "b14ff5c8-a124-4ce1-b883-e60739e333dc"
      },
      "source": [
        "# Plotting the confusion matrix \n",
        "font1 = {'family': 'serif', \n",
        "        'fontstyle': 'italic',\n",
        "        'fontsize': 16,\n",
        "        'fontweight': 'bold',\n",
        "        'color': 'DarkRed'}\n",
        "\n",
        "plot_confusion_matrix(gs, X_test, y_test, values_format='d')\n",
        "plt.title('Confusion Matrix', fontdict=font1)\n",
        "plt.grid(False)\n",
        "plt.show()"
      ],
      "execution_count": 41,
      "outputs": [
        {
          "output_type": "display_data",
          "data": {
            "image/png": "[encoded data removed]",
            "text/plain": [
              "<Figure size 576x396 with 2 Axes>"
            ]
          },
          "metadata": {
            "tags": []
          }
        }
      ]
    },
    {
      "cell_type": "code",
      "metadata": {
        "colab": {
          "base_uri": "https://localhost:8080/"
        },
        "id": "JZ-l8rsgbl6P",
        "outputId": "094cf2a4-f53d-4e82-a425-e33af0932e4b"
      },
      "source": [
        "# Model evaluation - Sensitivity, Specificity and Precision \n",
        "TN, FP, FN, TP = confusion_matrix(y_test, gs.predict(X_test)).flatten()\n",
        "print(\"True Negatives:\", TN)\n",
        "print(\"False Positives:\", FP)\n",
        "print(\"False Negatives:\", FN)\n",
        "print(\"True Positives:\", TP)\n",
        "\n",
        "sensitivity = TP/(TP + FN)\n",
        "specificity = TN/(TN + FP)\n",
        "precision = TP/(TP + FP)\n",
        "print(\"\\nSensitivity:\", sensitivity)\n",
        "print(\"Specificity:\", specificity)\n",
        "print(\"Precision:\", precision)"
      ],
      "execution_count": 42,
      "outputs": [
        {
          "output_type": "stream",
          "text": [
            "True Negatives: 69350\n",
            "False Positives: 1278\n",
            "False Negatives: 4709\n",
            "True Positives: 66290\n",
            "\n",
            "Sensitivity: 0.9336751221848195\n",
            "Specificity: 0.9819051934077137\n",
            "Precision: 0.9810857210513853\n"
          ],
          "name": "stdout"
        }
      ]
    },
    {
      "cell_type": "markdown",
      "metadata": {
        "id": "3pwxgBx-cQYL"
      },
      "source": [
        "From the results above, we can see that there are more false negatives than false positives. This cannot be a smart model because ignoring the probability of a transaction being fraud when there actually is one is very dangerous. It is a very serious data breach! So we need to lower the probability threshold in order to increase the true positive rate. "
      ]
    },
    {
      "cell_type": "code",
      "metadata": {
        "colab": {
          "base_uri": "https://localhost:8080/"
        },
        "id": "h4pbOnMNSUFe",
        "outputId": "22553891-cf49-405c-cc07-510134fbb68f"
      },
      "source": [
        "# Model evaluation -AUC\n",
        "# Calculate AUC for both training and testing subsets\n",
        "# Only probabilities being in the positive class is needed for the calculation, that is the second column\n",
        "training_logreg_AUC = roc_auc_score(y_train, gs.predict_proba(X_train)[:, 1]) \n",
        "testing_logreg_AUC = roc_auc_score(y_test, gs.predict_proba(X_test)[:, 1])\n",
        "\n",
        "print(\"Training Logreg AUC:\", training_logreg_AUC)\n",
        "print(\"Testing Logreg AUC:\", testing_logreg_AUC)"
      ],
      "execution_count": 36,
      "outputs": [
        {
          "output_type": "stream",
          "text": [
            "Training Logreg AUC: 0.991875643286456\n",
            "Testing Logreg AUC: 0.9915914611772135\n"
          ],
          "name": "stdout"
        }
      ]
    },
    {
      "cell_type": "code",
      "metadata": {
        "colab": {
          "base_uri": "https://localhost:8080/",
          "height": 518
        },
        "id": "to5pQte4aDWu",
        "outputId": "24cf77f1-21a7-4d05-f394-773eb95795c9"
      },
      "source": [
        "# Visualize the ROC curve for both Random Forest and Logistic Regression on the \n",
        "# same graph to compare their performances.\n",
        "# http://www.navan.name/roc/\n",
        "# https://stackoverflow.com/questions/61325314/how-to-change-plot-confusion-matrix-default-figure-size-in-sklearn-metrics-packa\n",
        "\n",
        "plt.style.use('seaborn')\n",
        "font1 = {'family': 'serif', \n",
        "        'fontstyle': 'italic',\n",
        "        'fontsize': 16,\n",
        "        'fontweight': 'bold',\n",
        "        'color': 'DarkBlue'}\n",
        "font2 = {'weight': 'bold', 'size': 12}\n",
        "\n",
        "fig, ax = plt.subplots(figsize=(12, 8))\n",
        "plot_roc_curve(rfc, X_test, y_test, color='darkgreen', ax=ax)\n",
        "plot_roc_curve(gs, X_test, y_test,color='magenta', ax=ax)\n",
        "plt.plot([0, 1], [0, 1], ls='--', color='red', label='Baseline (AUC = 0.5)')\n",
        "ax.legend(loc='lower right')\n",
        "ax.set_title('ROC Curve', fontdict=font1)\n",
        "ax.set_xlabel('False Positive Rate', fontdict=font2)\n",
        "ax.set_ylabel('True Positive Rate', fontdict=font2)\n",
        "plt.show()"
      ],
      "execution_count": 38,
      "outputs": [
        {
          "output_type": "display_data",
          "data": {
            "image/png": "[encoded data removed]",
            "text/plain": [
              "<Figure size 864x576 with 1 Axes>"
            ]
          },
          "metadata": {
            "tags": []
          }
        }
      ]
    }
  ]
}